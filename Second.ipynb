{
  "nbformat": 4,
  "nbformat_minor": 0,
  "metadata": {
    "colab": {
      "provenance": []
    },
    "kernelspec": {
      "name": "python3",
      "display_name": "Python 3"
    },
    "language_info": {
      "name": "python"
    }
  },
  "cells": [
    {
      "cell_type": "code",
      "execution_count": 5,
      "metadata": {
        "colab": {
          "base_uri": "https://localhost:8080/"
        },
        "id": "Ynq8PWS68BYm",
        "outputId": "6f320f67-0a83-4c33-bf85-3685eafa951a"
      },
      "outputs": [
        {
          "output_type": "execute_result",
          "data": {
            "text/plain": [
              "[1, 4, 9, 16, 25, 36, 49, 64, 81, 100]"
            ]
          },
          "metadata": {},
          "execution_count": 5
        }
      ],
      "source": [
        "lst_1=[]\n",
        "for i in range(1,11):\n",
        "  lst_1.append(i)\n",
        "\n",
        "lst_2=[x**2 for x in lst_1]\n",
        "lst_2"
      ]
    },
    {
      "cell_type": "code",
      "source": [
        "fileName = input(\"Enter the input file name:\")\n",
        "word_list = []\n",
        "\n",
        "with open(fileName) as words:\n",
        "    for line in words:\n",
        "        line.rstrip()\n",
        "\n",
        "        for list_of_words in line.split():\n",
        "            print(list_of_words)\n",
        "            word_list.sort()\n",
        "            for list2_words in word_list:\n",
        "                if list2_words not in word_list:\n",
        "                    word_list.sort()\n",
        "                    word_list.append(list_of_words)\n",
        "                for new_words in line.split():\n",
        "                    print(new_words)"
      ],
      "metadata": {
        "colab": {
          "base_uri": "https://localhost:8080/",
          "height": 390
        },
        "id": "ltCdy8dXAL6X",
        "outputId": "a2e42bea-b5b6-4cae-807b-ebeb8ef89b97"
      },
      "execution_count": 6,
      "outputs": [
        {
          "output_type": "error",
          "ename": "KeyboardInterrupt",
          "evalue": "ignored",
          "traceback": [
            "\u001b[0;31m---------------------------------------------------------------------------\u001b[0m",
            "\u001b[0;31mKeyboardInterrupt\u001b[0m                         Traceback (most recent call last)",
            "\u001b[0;32m<ipython-input-6-4b36aaa85d3f>\u001b[0m in \u001b[0;36m<cell line: 1>\u001b[0;34m()\u001b[0m\n\u001b[0;32m----> 1\u001b[0;31m \u001b[0mfileName\u001b[0m \u001b[0;34m=\u001b[0m \u001b[0minput\u001b[0m\u001b[0;34m(\u001b[0m\u001b[0;34m\"Enter the input file name:\"\u001b[0m\u001b[0;34m)\u001b[0m\u001b[0;34m\u001b[0m\u001b[0;34m\u001b[0m\u001b[0m\n\u001b[0m\u001b[1;32m      2\u001b[0m \u001b[0mword_list\u001b[0m \u001b[0;34m=\u001b[0m \u001b[0;34m[\u001b[0m\u001b[0;34m]\u001b[0m\u001b[0;34m\u001b[0m\u001b[0;34m\u001b[0m\u001b[0m\n\u001b[1;32m      3\u001b[0m \u001b[0;34m\u001b[0m\u001b[0m\n\u001b[1;32m      4\u001b[0m \u001b[0;32mwith\u001b[0m \u001b[0mopen\u001b[0m\u001b[0;34m(\u001b[0m\u001b[0mfileName\u001b[0m\u001b[0;34m)\u001b[0m \u001b[0;32mas\u001b[0m \u001b[0mwords\u001b[0m\u001b[0;34m:\u001b[0m\u001b[0;34m\u001b[0m\u001b[0;34m\u001b[0m\u001b[0m\n\u001b[1;32m      5\u001b[0m     \u001b[0;32mfor\u001b[0m \u001b[0mline\u001b[0m \u001b[0;32min\u001b[0m \u001b[0mwords\u001b[0m\u001b[0;34m:\u001b[0m\u001b[0;34m\u001b[0m\u001b[0;34m\u001b[0m\u001b[0m\n",
            "\u001b[0;32m/usr/local/lib/python3.10/dist-packages/ipykernel/kernelbase.py\u001b[0m in \u001b[0;36mraw_input\u001b[0;34m(self, prompt)\u001b[0m\n\u001b[1;32m    849\u001b[0m                 \u001b[0;34m\"raw_input was called, but this frontend does not support input requests.\"\u001b[0m\u001b[0;34m\u001b[0m\u001b[0;34m\u001b[0m\u001b[0m\n\u001b[1;32m    850\u001b[0m             )\n\u001b[0;32m--> 851\u001b[0;31m         return self._input_request(str(prompt),\n\u001b[0m\u001b[1;32m    852\u001b[0m             \u001b[0mself\u001b[0m\u001b[0;34m.\u001b[0m\u001b[0m_parent_ident\u001b[0m\u001b[0;34m,\u001b[0m\u001b[0;34m\u001b[0m\u001b[0;34m\u001b[0m\u001b[0m\n\u001b[1;32m    853\u001b[0m             \u001b[0mself\u001b[0m\u001b[0;34m.\u001b[0m\u001b[0m_parent_header\u001b[0m\u001b[0;34m,\u001b[0m\u001b[0;34m\u001b[0m\u001b[0;34m\u001b[0m\u001b[0m\n",
            "\u001b[0;32m/usr/local/lib/python3.10/dist-packages/ipykernel/kernelbase.py\u001b[0m in \u001b[0;36m_input_request\u001b[0;34m(self, prompt, ident, parent, password)\u001b[0m\n\u001b[1;32m    893\u001b[0m             \u001b[0;32mexcept\u001b[0m \u001b[0mKeyboardInterrupt\u001b[0m\u001b[0;34m:\u001b[0m\u001b[0;34m\u001b[0m\u001b[0;34m\u001b[0m\u001b[0m\n\u001b[1;32m    894\u001b[0m                 \u001b[0;31m# re-raise KeyboardInterrupt, to truncate traceback\u001b[0m\u001b[0;34m\u001b[0m\u001b[0;34m\u001b[0m\u001b[0m\n\u001b[0;32m--> 895\u001b[0;31m                 \u001b[0;32mraise\u001b[0m \u001b[0mKeyboardInterrupt\u001b[0m\u001b[0;34m(\u001b[0m\u001b[0;34m\"Interrupted by user\"\u001b[0m\u001b[0;34m)\u001b[0m \u001b[0;32mfrom\u001b[0m \u001b[0;32mNone\u001b[0m\u001b[0;34m\u001b[0m\u001b[0;34m\u001b[0m\u001b[0m\n\u001b[0m\u001b[1;32m    896\u001b[0m             \u001b[0;32mexcept\u001b[0m \u001b[0mException\u001b[0m \u001b[0;32mas\u001b[0m \u001b[0me\u001b[0m\u001b[0;34m:\u001b[0m\u001b[0;34m\u001b[0m\u001b[0;34m\u001b[0m\u001b[0m\n\u001b[1;32m    897\u001b[0m                 \u001b[0mself\u001b[0m\u001b[0;34m.\u001b[0m\u001b[0mlog\u001b[0m\u001b[0;34m.\u001b[0m\u001b[0mwarning\u001b[0m\u001b[0;34m(\u001b[0m\u001b[0;34m\"Invalid Message:\"\u001b[0m\u001b[0;34m,\u001b[0m \u001b[0mexc_info\u001b[0m\u001b[0;34m=\u001b[0m\u001b[0;32mTrue\u001b[0m\u001b[0;34m)\u001b[0m\u001b[0;34m\u001b[0m\u001b[0;34m\u001b[0m\u001b[0m\n",
            "\u001b[0;31mKeyboardInterrupt\u001b[0m: Interrupted by user"
          ]
        }
      ]
    },
    {
      "cell_type": "code",
      "source": [
        "from queue import Queue\n",
        "\n",
        "romaniaMap = {\n",
        "    'Arad': ['Sibiu', 'Zerind', 'Timisoara'],\n",
        "    'Zerind': ['Arad', 'Oradea'],\n",
        "    'Oradea': ['Zerind', 'Sibiu'],\n",
        "    'Sibiu': ['Arad', 'Oradea', 'Fagaras', 'Rimnicu'],\n",
        "    'Timisoara': ['Arad', 'Lugoj'],\n",
        "    'Lugoj': ['Timisoara', 'Mehadia'],\n",
        "    'Mehadia': ['Lugoj', 'Drobeta'],\n",
        "    'Drobeta': ['Mehadia', 'Craiova'],\n",
        "    'Craiova': ['Drobeta', 'Rimnicu', 'Pitesti'],\n",
        "    'Rimnicu': ['Sibiu', 'Craiova', 'Pitesti'],\n",
        "    'Fagaras': ['Sibiu', 'Bucharest'],\n",
        "    'Pitesti': ['Rimnicu', 'Craiova', 'Bucharest'],\n",
        "    'Bucharest': ['Fagaras', 'Pitesti', 'Giurgiu', 'Urziceni'],\n",
        "    'Giurgiu': ['Bucharest'],\n",
        "    'Urziceni': ['Bucharest', 'Vaslui', 'Hirsova'],\n",
        "    'Hirsova': ['Urziceni', 'Eforie'],\n",
        "    'Eforie': ['Hirsova'],\n",
        "    'Vaslui': ['Iasi', 'Urziceni'],\n",
        "    'Iasi': ['Vaslui', 'Neamt'],\n",
        "    'Neamt': ['Iasi']\n",
        "}\n",
        "\n",
        "\n",
        "def bfs(startingNode, destinationNode):\n",
        "    # For keeping track of what we have visited\n",
        "    visited = {}\n",
        "    # keep track of distance\n",
        "    distance = {}\n",
        "    # parent node of specific graph\n",
        "    parent = {}\n",
        "\n",
        "    bfs_traversal_output = []\n",
        "    # BFS is queue based so using 'Queue' from python built-in\n",
        "    queue = Queue()\n",
        "\n",
        "    # travelling the cities in map\n",
        "    for city in romaniaMap.keys():\n",
        "        # since intially no city is visited so there will be nothing in visited list\n",
        "        visited[city] = False\n",
        "        parent[city] = None\n",
        "        distance[city] = -1\n",
        "\n",
        "    # starting from 'Arad'\n",
        "    startingCity = startingNode\n",
        "    visited[startingCity] = True\n",
        "    distance[startingCity] = 0\n",
        "    queue.put(startingCity)\n",
        "\n",
        "    while not queue.empty():\n",
        "        u = queue.get()     # first element of the queue, here it will be 'arad'\n",
        "        bfs_traversal_output.append(u)\n",
        "\n",
        "        # explore the adjust cities adj to 'arad'\n",
        "        for v in romaniaMap[u]:\n",
        "            if not visited[v]:\n",
        "                visited[v] = True\n",
        "                parent[v] = u\n",
        "                distance[v] = distance[u] + 1\n",
        "                queue.put(v)\n",
        "\n",
        "        # reaching our destination city i.e 'bucharest'\n",
        "    g = destinationNode\n",
        "    path = []\n",
        "    while g is not None:\n",
        "        path.append(g)\n",
        "        g = parent[g]\n",
        "\n",
        "    path.reverse()\n",
        "    # printing the path to our destination city\n",
        "    print(path)\n",
        "\n",
        "\n",
        "# Starting City & Destination City\n",
        "bfs('Arad', 'Bucharest')"
      ],
      "metadata": {
        "colab": {
          "base_uri": "https://localhost:8080/"
        },
        "id": "JrXR6mxSBdb4",
        "outputId": "f7614120-928e-4c98-fa11-6b1de7e4bda7"
      },
      "execution_count": 7,
      "outputs": [
        {
          "output_type": "stream",
          "name": "stdout",
          "text": [
            "['Arad', 'Sibiu', 'Fagaras', 'Bucharest']\n"
          ]
        }
      ]
    },
    {
      "cell_type": "code",
      "source": [
        "def dfs(graph, start, goal):\n",
        "    visited = set()\n",
        "    stack = [(start, [start])]\n",
        "\n",
        "    while stack:\n",
        "        (current, path) = stack.pop()\n",
        "\n",
        "        if current in visited:\n",
        "            continue\n",
        "\n",
        "        visited.add(current)\n",
        "\n",
        "        if current == goal:\n",
        "            return path\n",
        "\n",
        "        for neighbor in graph[current]:\n",
        "            if neighbor not in visited:\n",
        "                stack.append((neighbor, path + [neighbor]))\n",
        "\n",
        "    return None\n",
        "\n",
        "# Example usage\n",
        "romaniaMap = {\n",
        "    'Arad': ['Sibiu', 'Zerind', 'Timisoara'],\n",
        "    'Zerind': ['Arad', 'Oradea'],\n",
        "    'Oradea': ['Zerind', 'Sibiu'],\n",
        "    # ... (other city connections)\n",
        "    'Neamt': ['Iasi']\n",
        "}\n",
        "\n",
        "start_city = 'Arad'\n",
        "goal_city = 'Bucharest'\n",
        "\n",
        "path = dfs(romaniaMap, start_city, goal_city)\n",
        "\n",
        "if path:\n",
        "    print(\"Path found:\", ' -> '.join(path))\n",
        "else:\n",
        "    print(\"Path not found.\")\n",
        "\n",
        "\n"
      ],
      "metadata": {
        "colab": {
          "base_uri": "https://localhost:8080/",
          "height": 366
        },
        "id": "Gb_T8TbILqdz",
        "outputId": "4934b7f1-5520-4d08-d741-f1c70148ca2e"
      },
      "execution_count": 13,
      "outputs": [
        {
          "output_type": "error",
          "ename": "KeyError",
          "evalue": "ignored",
          "traceback": [
            "\u001b[0;31m---------------------------------------------------------------------------\u001b[0m",
            "\u001b[0;31mKeyError\u001b[0m                                  Traceback (most recent call last)",
            "\u001b[0;32m<ipython-input-13-a4a218e96ecd>\u001b[0m in \u001b[0;36m<cell line: 34>\u001b[0;34m()\u001b[0m\n\u001b[1;32m     32\u001b[0m \u001b[0mgoal_city\u001b[0m \u001b[0;34m=\u001b[0m \u001b[0;34m'Bucharest'\u001b[0m\u001b[0;34m\u001b[0m\u001b[0;34m\u001b[0m\u001b[0m\n\u001b[1;32m     33\u001b[0m \u001b[0;34m\u001b[0m\u001b[0m\n\u001b[0;32m---> 34\u001b[0;31m \u001b[0mpath\u001b[0m \u001b[0;34m=\u001b[0m \u001b[0mdfs\u001b[0m\u001b[0;34m(\u001b[0m\u001b[0mromaniaMap\u001b[0m\u001b[0;34m,\u001b[0m \u001b[0mstart_city\u001b[0m\u001b[0;34m,\u001b[0m \u001b[0mgoal_city\u001b[0m\u001b[0;34m)\u001b[0m\u001b[0;34m\u001b[0m\u001b[0;34m\u001b[0m\u001b[0m\n\u001b[0m\u001b[1;32m     35\u001b[0m \u001b[0;34m\u001b[0m\u001b[0m\n\u001b[1;32m     36\u001b[0m \u001b[0;32mif\u001b[0m \u001b[0mpath\u001b[0m\u001b[0;34m:\u001b[0m\u001b[0;34m\u001b[0m\u001b[0;34m\u001b[0m\u001b[0m\n",
            "\u001b[0;32m<ipython-input-13-a4a218e96ecd>\u001b[0m in \u001b[0;36mdfs\u001b[0;34m(graph, start, goal)\u001b[0m\n\u001b[1;32m     14\u001b[0m             \u001b[0;32mreturn\u001b[0m \u001b[0mpath\u001b[0m\u001b[0;34m\u001b[0m\u001b[0;34m\u001b[0m\u001b[0m\n\u001b[1;32m     15\u001b[0m \u001b[0;34m\u001b[0m\u001b[0m\n\u001b[0;32m---> 16\u001b[0;31m         \u001b[0;32mfor\u001b[0m \u001b[0mneighbor\u001b[0m \u001b[0;32min\u001b[0m \u001b[0mgraph\u001b[0m\u001b[0;34m[\u001b[0m\u001b[0mcurrent\u001b[0m\u001b[0;34m]\u001b[0m\u001b[0;34m:\u001b[0m\u001b[0;34m\u001b[0m\u001b[0;34m\u001b[0m\u001b[0m\n\u001b[0m\u001b[1;32m     17\u001b[0m             \u001b[0;32mif\u001b[0m \u001b[0mneighbor\u001b[0m \u001b[0;32mnot\u001b[0m \u001b[0;32min\u001b[0m \u001b[0mvisited\u001b[0m\u001b[0;34m:\u001b[0m\u001b[0;34m\u001b[0m\u001b[0;34m\u001b[0m\u001b[0m\n\u001b[1;32m     18\u001b[0m                 \u001b[0mstack\u001b[0m\u001b[0;34m.\u001b[0m\u001b[0mappend\u001b[0m\u001b[0;34m(\u001b[0m\u001b[0;34m(\u001b[0m\u001b[0mneighbor\u001b[0m\u001b[0;34m,\u001b[0m \u001b[0mpath\u001b[0m \u001b[0;34m+\u001b[0m \u001b[0;34m[\u001b[0m\u001b[0mneighbor\u001b[0m\u001b[0;34m]\u001b[0m\u001b[0;34m)\u001b[0m\u001b[0;34m)\u001b[0m\u001b[0;34m\u001b[0m\u001b[0;34m\u001b[0m\u001b[0m\n",
            "\u001b[0;31mKeyError\u001b[0m: 'Timisoara'"
          ]
        }
      ]
    }
  ]
}